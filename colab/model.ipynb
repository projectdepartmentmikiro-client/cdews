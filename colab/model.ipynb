!pip install flask pyngrok roboflow ultralytics opencv-python pandas sqlalchemy

from flask import Flask, request, jsonify
from pyngrok import ngrok
from roboflow import Roboflow
import cv2
import os
import sqlite3
import pandas as pd
from werkzeug.utils import secure_filename
from datetime import datetime

app = Flask(__name__)

UPLOAD_DIR = "/content/uploads"
os.makedirs(UPLOAD_DIR, exist_ok=True)
DB_PATH = "/content/egg_results.db"
CSV_PATH = "/content/egg_results.csv"

rf = Roboflow(api_key="wKgfqYQvBCHPuxftcOxP")
project = rf.workspace("cheah-ui-zhe").project("pdi-imbge")
model = project.version(3).model
EGG_CLASS_NAME = "albopictus"

conn = sqlite3.connect(DB_PATH, check_same_thread=False)
cursor = conn.cursor()
cursor.execute("""
CREATE TABLE IF NOT EXISTS results (
    id INTEGER PRIMARY KEY AUTOINCREMENT,
    timestamp TEXT,
    device_id TEXT,
    station_name TEXT,
    barangay TEXT,
    purok TEXT,
    latitude REAL,
    longitude REAL,
    image_path TEXT,
    bw_image_path TEXT,
    annotated_image_path TEXT,
    egg_count INTEGER
)
""")
conn.commit()

def detect_eggs(image_path):
    result = model.predict(image_path).json()
    img = cv2.imread(image_path)
    egg_count = 0
    if img is None:
        return 0, None

    for pred in result["predictions"]:
        if pred["class"].lower() == EGG_CLASS_NAME.lower():
            x, y = int(pred['x']), int(pred['y'])
            w, h = int(pred['width']), int(pred['height'])
            x1, y1 = x - w//2, y - h//2
            x2, y2 = x + w//2, y + h//2
            cv2.rectangle(img, (x1, y1), (x2, y2), (0, 0, 255), 2)
            egg_count += 1

    output_path = image_path.replace(".jpg", "_pred.jpg")
    cv2.imwrite(output_path, img)
    return egg_count, output_path

def to_black_and_white(image_path):
    img = cv2.imread(image_path)
    if img is None:
        return None
    gray = cv2.cvtColor(img, cv2.COLOR_BGR2GRAY)
    bw_path = image_path.replace(".jpg", "_bw.jpg")
    cv2.imwrite(bw_path, gray)
    return bw_path

@app.route("/predict", methods=["POST"])
def predict():
    if "file" not in request.files:
        return jsonify({"error": "No file uploaded"}), 400

    metadata = request.form
    device_id = metadata.get("device_id", "Unknown")
    station_name = metadata.get("station_name", "")
    barangay = metadata.get("barangay", "")
    purok = metadata.get("purok", "")
    latitude = metadata.get("latitude", "")
    longitude = metadata.get("longitude", "")

    file = request.files["file"]
    filename = secure_filename(file.filename)
    path = os.path.join(UPLOAD_DIR, filename)
    file.save(path)

    bw_path = to_black_and_white(path)
    egg_count, annotated_path = detect_eggs(path)

    timestamp = datetime.now().strftime("%Y-%m-%d %H:%M:%S")

    cursor.execute("""
    INSERT INTO results (
        timestamp, device_id, station_name, barangay, purok,
        latitude, longitude, image_path, bw_image_path,
        annotated_image_path, egg_count
    ) VALUES (?, ?, ?, ?, ?, ?, ?, ?, ?, ?, ?)
    """, (timestamp, device_id, station_name, barangay, purok,
          latitude, longitude, path, bw_path, annotated_path, egg_count))
    conn.commit()

    df = pd.read_sql_query("SELECT * FROM results", conn)
    df.to_csv(CSV_PATH, index=False)

    image_url = f"{public_url}/files/{os.path.basename(path)}"
    bw_url = f"{public_url}/files/{os.path.basename(bw_path)}" if bw_path else None
    annotated_url = f"{public_url}/files/{os.path.basename(annotated_path)}" if annotated_path else None

    return jsonify({
        "timestamp": timestamp,
        "device_id": device_id,
        "egg_count": egg_count,
        "image_url": image_url,
        "bw_image_url": bw_url,
        "annotated_image_url": annotated_url
    })

@app.route("/files/<path:filename>")
def serve_file(filename):
    return app.send_static_file(os.path.join(UPLOAD_DIR, filename))

@app.route("/table", methods=["GET"])
def view_table():
    df = pd.read_sql_query("SELECT * FROM results", conn)
    html_table = df.to_html(index=False)
    return f"<h2>Egg Detection Records</h2>{html_table}"

@app.route("/clear_uploads", methods=["POST"])
def clear_uploads():
    for root, dirs, files in os.walk(UPLOAD_DIR):
        for f in files:
            os.remove(os.path.join(root, f))
    for dir in os.listdir(UPLOAD_DIR):
        os.rmdir(os.path.join(UPLOAD_DIR, dir))
    cursor.execute("DELETE FROM results")
    conn.commit()
    if os.path.exists(CSV_PATH):
        os.remove(CSV_PATH)
    return jsonify({"status": "cleared"})

public_url = ngrok.connect(5000)
print("Public URL:", public_url)
app.run(port=5000)